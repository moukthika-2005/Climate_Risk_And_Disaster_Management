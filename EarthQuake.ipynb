{
 "cells": [
  {
   "cell_type": "code",
   "execution_count": 2,
   "id": "b6d40789-0c95-437d-baed-52c9015ca648",
   "metadata": {},
   "outputs": [],
   "source": [
    "import pandas as pd\n",
    "import numpy as np\n",
    "import matplotlib.pyplot as plt\n",
    "from sklearn.model_selection import train_test_split, GridSearchCV\n",
    "from sklearn.preprocessing import LabelEncoder, StandardScaler\n",
    "from sklearn.ensemble import RandomForestClassifier\n",
    "from sklearn.linear_model import LogisticRegression\n",
    "from sklearn.metrics import classification_report, confusion_matrix, accuracy_score\n",
    "from sklearn.model_selection import cross_val_score\n",
    "import joblib"
   ]
  },
  {
   "cell_type": "code",
   "execution_count": 3,
   "id": "be64ded5-6ca2-4b64-acfe-bc4f7aa66bf8",
   "metadata": {},
   "outputs": [
    {
     "name": "stdout",
     "output_type": "stream",
     "text": [
      "                                      title  magnitude         date_time  cdi  \\\n",
      "0          M 6.5 - 42 km W of Sola, Vanuatu        6.5  16-08-2023 12:47    7   \n",
      "1  M 6.5 - 43 km S of Intipucá, El Salvador        6.5  19-07-2023 00:22    8   \n",
      "2  M 6.6 - 25 km ESE of Loncopué, Argentina        6.6  17-07-2023 03:05    7   \n",
      "3     M 7.2 - 98 km S of Sand Point, Alaska        7.2  16-07-2023 06:48    6   \n",
      "4                  M 7.3 - Alaska Peninsula        7.3  16-07-2023 06:48    0   \n",
      "\n",
      "   mmi   alert  tsunami  sig net  nst      dmin    gap magType    depth  \\\n",
      "0    4   green        0  657  us  114  7.177000   25.0     mww  192.955   \n",
      "1    6  yellow        0  775  us   92  0.679000   40.0     mww   69.727   \n",
      "2    5   green        0  899  us   70  1.634000   28.0     mww  171.371   \n",
      "3    6   green        1  860  us  173  0.907000   36.0     mww   32.571   \n",
      "4    5     NaN        1  820  at   79  0.879451  172.8      Mi   21.000   \n",
      "\n",
      "   latitude  longitude               location      continent    country  \n",
      "0  -13.8814   167.1580          Sola, Vanuatu            NaN    Vanuatu  \n",
      "1   12.8140   -88.1265  Intipucá, El Salvador            NaN        NaN  \n",
      "2  -38.1911   -70.3731    Loncopué, Argentina  South America  Argentina  \n",
      "3   54.3844  -160.6990     Sand Point, Alaska            NaN        NaN  \n",
      "4   54.4900  -160.7960       Alaska Peninsula            NaN        NaN  \n"
     ]
    }
   ],
   "source": [
    "#Loading the dataset\n",
    "df = pd.read_csv(\"earthquake_1995-2023.csv\")\n",
    "print(df.head())"
   ]
  },
  {
   "cell_type": "code",
   "execution_count": 4,
   "id": "cd0a7677-c6a4-4ea1-96ce-937ad0d208c0",
   "metadata": {},
   "outputs": [
    {
     "name": "stdout",
     "output_type": "stream",
     "text": [
      "<class 'pandas.core.frame.DataFrame'>\n",
      "RangeIndex: 1000 entries, 0 to 999\n",
      "Data columns (total 19 columns):\n",
      " #   Column     Non-Null Count  Dtype  \n",
      "---  ------     --------------  -----  \n",
      " 0   title      1000 non-null   object \n",
      " 1   magnitude  1000 non-null   float64\n",
      " 2   date_time  1000 non-null   object \n",
      " 3   cdi        1000 non-null   int64  \n",
      " 4   mmi        1000 non-null   int64  \n",
      " 5   alert      449 non-null    object \n",
      " 6   tsunami    1000 non-null   int64  \n",
      " 7   sig        1000 non-null   int64  \n",
      " 8   net        1000 non-null   object \n",
      " 9   nst        1000 non-null   int64  \n",
      " 10  dmin       1000 non-null   float64\n",
      " 11  gap        1000 non-null   float64\n",
      " 12  magType    1000 non-null   object \n",
      " 13  depth      1000 non-null   float64\n",
      " 14  latitude   1000 non-null   float64\n",
      " 15  longitude  1000 non-null   float64\n",
      " 16  location   994 non-null    object \n",
      " 17  continent  284 non-null    object \n",
      " 18  country    651 non-null    object \n",
      "dtypes: float64(6), int64(5), object(8)\n",
      "memory usage: 148.6+ KB\n",
      "None\n",
      "         magnitude          cdi         mmi      tsunami          sig  \\\n",
      "count  1000.000000  1000.000000  1000.00000  1000.000000  1000.000000   \n",
      "mean      6.940150     3.605000     6.02700     0.325000   847.915000   \n",
      "std       0.438148     3.328972     1.43399     0.468609   301.802632   \n",
      "min       6.500000     0.000000     1.00000     0.000000   650.000000   \n",
      "25%       6.600000     0.000000     5.00000     0.000000   691.000000   \n",
      "50%       6.800000     4.000000     6.00000     0.000000   744.000000   \n",
      "75%       7.100000     7.000000     7.00000     1.000000   874.250000   \n",
      "max       9.100000     9.000000    10.00000     1.000000  2910.000000   \n",
      "\n",
      "               nst         dmin          gap        depth     latitude  \\\n",
      "count  1000.000000  1000.000000  1000.000000  1000.000000  1000.000000   \n",
      "mean    193.918000     1.125174    20.926290    74.612541     4.315554   \n",
      "std     239.045858     2.073164    24.415895   130.812590    26.633320   \n",
      "min       0.000000     0.000000     0.000000     2.700000   -61.848400   \n",
      "25%       0.000000     0.000000     0.000000    16.000000   -13.518500   \n",
      "50%       0.000000     0.000000    18.000000    29.000000    -2.443500   \n",
      "75%     403.000000     1.549250    27.000000    55.000000    25.167250   \n",
      "max     934.000000    17.654000   239.000000   670.810000    71.631200   \n",
      "\n",
      "         longitude  \n",
      "count  1000.000000  \n",
      "mean     51.486576  \n",
      "std     117.478302  \n",
      "min    -179.968000  \n",
      "25%     -71.694450  \n",
      "50%     107.791000  \n",
      "75%     148.364750  \n",
      "max     179.662000  \n",
      "title          0\n",
      "magnitude      0\n",
      "date_time      0\n",
      "cdi            0\n",
      "mmi            0\n",
      "alert        551\n",
      "tsunami        0\n",
      "sig            0\n",
      "net            0\n",
      "nst            0\n",
      "dmin           0\n",
      "gap            0\n",
      "magType        0\n",
      "depth          0\n",
      "latitude       0\n",
      "longitude      0\n",
      "location       6\n",
      "continent    716\n",
      "country      349\n",
      "dtype: int64\n"
     ]
    }
   ],
   "source": [
    "#Basic Info\n",
    "print(df.info())\n",
    "print(df.describe())\n",
    "print(df.isnull().sum())"
   ]
  },
  {
   "cell_type": "code",
   "execution_count": null,
   "id": "4e662748-bfda-47af-b7b1-83fc73dba544",
   "metadata": {},
   "outputs": [],
   "source": []
  }
 ],
 "metadata": {
  "kernelspec": {
   "display_name": "Python 3 (ipykernel)",
   "language": "python",
   "name": "python3"
  },
  "language_info": {
   "codemirror_mode": {
    "name": "ipython",
    "version": 3
   },
   "file_extension": ".py",
   "mimetype": "text/x-python",
   "name": "python",
   "nbconvert_exporter": "python",
   "pygments_lexer": "ipython3",
   "version": "3.11.5"
  }
 },
 "nbformat": 4,
 "nbformat_minor": 5
}
